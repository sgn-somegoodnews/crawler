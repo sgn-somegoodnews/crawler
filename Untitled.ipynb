{
 "cells": [
  {
   "cell_type": "code",
   "execution_count": 2,
   "metadata": {},
   "outputs": [],
   "source": [
    "from textblob import TextBlob"
   ]
  },
  {
   "cell_type": "code",
   "execution_count": 39,
   "metadata": {},
   "outputs": [],
   "source": [
    "news = [\n",
    "    \"Number of deaths in USA have decreased\",\n",
    "    \"Number of deaths in USA have increased\",\n",
    "    \"Floyd was killed last month\",\n",
    "    \"People protest for justice\",\n",
    "    \"USA won the last game\",\n",
    "    \"The food at Radison is very good\"\n",
    "]"
   ]
  },
  {
   "cell_type": "code",
   "execution_count": 40,
   "metadata": {},
   "outputs": [],
   "source": [
    "news_sentiments = [TextBlob(text).sentiment for text in news]"
   ]
  },
  {
   "cell_type": "code",
   "execution_count": 41,
   "metadata": {},
   "outputs": [],
   "source": [
    "import pandas as pd\n",
    "df = pd.DataFrame(list(zip(news, news_sentiments)), columns=['News', 'Polarity / Subjectivity'])"
   ]
  },
  {
   "cell_type": "code",
   "execution_count": 42,
   "metadata": {},
   "outputs": [
    {
     "data": {
      "text/html": [
       "<div>\n",
       "<style scoped>\n",
       "    .dataframe tbody tr th:only-of-type {\n",
       "        vertical-align: middle;\n",
       "    }\n",
       "\n",
       "    .dataframe tbody tr th {\n",
       "        vertical-align: top;\n",
       "    }\n",
       "\n",
       "    .dataframe thead th {\n",
       "        text-align: right;\n",
       "    }\n",
       "</style>\n",
       "<table border=\"1\" class=\"dataframe\">\n",
       "  <thead>\n",
       "    <tr style=\"text-align: right;\">\n",
       "      <th></th>\n",
       "      <th>News</th>\n",
       "      <th>Polarity / Subjectivity</th>\n",
       "    </tr>\n",
       "  </thead>\n",
       "  <tbody>\n",
       "    <tr>\n",
       "      <th>0</th>\n",
       "      <td>Number of deaths in USA have decreased</td>\n",
       "      <td>(-0.4, 0.7)</td>\n",
       "    </tr>\n",
       "    <tr>\n",
       "      <th>1</th>\n",
       "      <td>Number of deaths in USA have increased</td>\n",
       "      <td>(0.0, 0.0)</td>\n",
       "    </tr>\n",
       "    <tr>\n",
       "      <th>2</th>\n",
       "      <td>Floyd was killed last month</td>\n",
       "      <td>(-0.1, 0.03333333333333333)</td>\n",
       "    </tr>\n",
       "    <tr>\n",
       "      <th>3</th>\n",
       "      <td>People protest for justice</td>\n",
       "      <td>(0.0, 0.0)</td>\n",
       "    </tr>\n",
       "    <tr>\n",
       "      <th>4</th>\n",
       "      <td>USA won the last game</td>\n",
       "      <td>(-0.2, 0.23333333333333334)</td>\n",
       "    </tr>\n",
       "    <tr>\n",
       "      <th>5</th>\n",
       "      <td>The food at Radison is very good</td>\n",
       "      <td>(0.9099999999999999, 0.7800000000000001)</td>\n",
       "    </tr>\n",
       "  </tbody>\n",
       "</table>\n",
       "</div>"
      ],
      "text/plain": [
       "                                     News  \\\n",
       "0  Number of deaths in USA have decreased   \n",
       "1  Number of deaths in USA have increased   \n",
       "2             Floyd was killed last month   \n",
       "3              People protest for justice   \n",
       "4                   USA won the last game   \n",
       "5        The food at Radison is very good   \n",
       "\n",
       "                    Polarity / Subjectivity  \n",
       "0                               (-0.4, 0.7)  \n",
       "1                                (0.0, 0.0)  \n",
       "2               (-0.1, 0.03333333333333333)  \n",
       "3                                (0.0, 0.0)  \n",
       "4               (-0.2, 0.23333333333333334)  \n",
       "5  (0.9099999999999999, 0.7800000000000001)  "
      ]
     },
     "execution_count": 42,
     "metadata": {},
     "output_type": "execute_result"
    }
   ],
   "source": [
    "df"
   ]
  },
  {
   "cell_type": "code",
   "execution_count": null,
   "metadata": {},
   "outputs": [],
   "source": []
  }
 ],
 "metadata": {
  "kernelspec": {
   "display_name": "Python 3",
   "language": "python",
   "name": "python3"
  },
  "language_info": {
   "codemirror_mode": {
    "name": "ipython",
    "version": 3
   },
   "file_extension": ".py",
   "mimetype": "text/x-python",
   "name": "python",
   "nbconvert_exporter": "python",
   "pygments_lexer": "ipython3",
   "version": "3.6.9"
  }
 },
 "nbformat": 4,
 "nbformat_minor": 4
}
