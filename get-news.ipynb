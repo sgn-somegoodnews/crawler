{
 "cells": [
  {
   "cell_type": "code",
   "execution_count": 2,
   "metadata": {},
   "outputs": [],
   "source": [
    "from GoogleNews import GoogleNews"
   ]
  },
  {
   "cell_type": "code",
   "execution_count": 5,
   "metadata": {},
   "outputs": [],
   "source": [
    "google_news = GoogleNews(lang='en', period='d') # every day process\n",
    "# googlenews = GoogleNews(lang='en', start='02/01/2020',end='02/28/2020') # first time"
   ]
  },
  {
   "cell_type": "code",
   "execution_count": 27,
   "metadata": {},
   "outputs": [],
   "source": [
    "google_news.search('health')"
   ]
  },
  {
   "cell_type": "code",
   "execution_count": 29,
   "metadata": {},
   "outputs": [],
   "source": [
    "news = google_news.result()"
   ]
  },
  {
   "cell_type": "code",
   "execution_count": 26,
   "metadata": {},
   "outputs": [
    {
     "data": {
      "text/plain": [
       "['Apple still has a lot of room to grow in the $3.5 trillion health ...',\n",
       " 'Editorial: No journalistic or public health benefit to Sec. Levine ...',\n",
       " 'Activists call for Michigan to declare racism a public health ...',\n",
       " 'Health-Care Stocks Risk Another Covid-19 Jolt',\n",
       " \"Being Trans Shouldn't Exclude Me From Health Laws\",\n",
       " 'NIH halts clinical trial of hydroxychloroquine',\n",
       " \"Father's Day 2020: 5 reasons why health insurance may be ...\",\n",
       " 'Board of Health passes anti-racism, face coverings resolutions',\n",
       " 'Free COVID-19 testing on Navajo Nation, in Kirtland and in ...',\n",
       " 'Public Health Confirms Two New COVID-19 Cases',\n",
       " 'Apple still has a lot of room to grow in the $3.5 trillion health ...',\n",
       " 'Editorial: No journalistic or public health benefit to Sec. Levine ...',\n",
       " 'Activists call for Michigan to declare racism a public health ...',\n",
       " 'Health-Care Stocks Risk Another Covid-19 Jolt',\n",
       " \"Being Trans Shouldn't Exclude Me From Health Laws\",\n",
       " 'NIH halts clinical trial of hydroxychloroquine',\n",
       " \"Father's Day 2020: 5 reasons why health insurance may be ...\",\n",
       " 'Board of Health passes anti-racism, face coverings resolutions',\n",
       " 'Free COVID-19 testing on Navajo Nation, in Kirtland and in ...',\n",
       " 'Public Health Confirms Two New COVID-19 Cases',\n",
       " 'Apple still has a lot of room to grow in the $3.5 trillion health ...',\n",
       " 'Editorial: No journalistic or public health benefit to Sec. Levine ...',\n",
       " 'Activists call for Michigan to declare racism a public health ...',\n",
       " 'Health-Care Stocks Risk Another Covid-19 Jolt',\n",
       " \"Being Trans Shouldn't Exclude Me From Health Laws\",\n",
       " 'Coronavirus: US National Institutes of Health halts trial of ...',\n",
       " \"Father's Day 2020: 5 reasons why health insurance may be ...\",\n",
       " 'Board of Health passes anti-racism, face coverings resolutions',\n",
       " 'Free COVID-19 testing on Navajo Nation, in Kirtland and in ...',\n",
       " 'Public Health Confirms Two New COVID-19 Cases',\n",
       " 'Apple still has a lot of room to grow in the $3.5 trillion health ...',\n",
       " 'Editorial: No journalistic or public health benefit to Sec. Levine ...',\n",
       " 'Activists call for Michigan to declare racism a public health ...',\n",
       " 'Health-Care Stocks Risk Another Covid-19 Jolt',\n",
       " \"Being Trans Shouldn't Exclude Me From Health Laws\",\n",
       " 'Coronavirus: US National Institutes of Health halts trial of ...',\n",
       " \"Father's Day 2020: 5 reasons why health insurance may be ...\",\n",
       " 'Board of Health passes anti-racism, face coverings resolutions',\n",
       " 'Free COVID-19 testing on Navajo Nation, in Kirtland and in ...',\n",
       " 'Public Health Confirms Two New COVID-19 Cases',\n",
       " 'Apple still has a lot of room to grow in the $3.5 trillion health ...',\n",
       " 'Editorial: No journalistic or public health benefit to Sec. Levine ...',\n",
       " 'Activists call for Michigan to declare racism a public health ...',\n",
       " 'Health-Care Stocks Risk Another Covid-19 Jolt',\n",
       " \"Being Trans Shouldn't Exclude Me From Health Laws\",\n",
       " 'Coronavirus: US National Institutes of Health halts trial of ...',\n",
       " \"Father's Day 2020: 5 reasons why health insurance may be ...\",\n",
       " 'Board of Health passes anti-racism, face coverings resolutions',\n",
       " 'Free COVID-19 testing on Navajo Nation, in Kirtland and in ...',\n",
       " 'Public Health Confirms Two New COVID-19 Cases',\n",
       " 'Apple still has a lot of room to grow in the $3.5 trillion health ...',\n",
       " 'Editorial: No journalistic or public health benefit to Sec. Levine ...',\n",
       " 'Activists call for Michigan to declare racism a public health ...',\n",
       " 'Health-Care Stocks Risk Another Covid-19 Jolt',\n",
       " \"Being Trans Shouldn't Exclude Me From Health Laws\",\n",
       " 'Coronavirus: US National Institutes of Health halts trial of ...',\n",
       " \"Father's Day 2020: 5 reasons why health insurance may be ...\",\n",
       " 'Board of Health passes anti-racism, face coverings resolutions',\n",
       " 'Free COVID-19 testing on Navajo Nation, in Kirtland and in ...',\n",
       " 'Public Health Confirms Two New COVID-19 Cases']"
      ]
     },
     "execution_count": 26,
     "metadata": {},
     "output_type": "execute_result"
    }
   ],
   "source": [
    "google_news.gettext()"
   ]
  },
  {
   "cell_type": "code",
   "execution_count": 36,
   "metadata": {
    "scrolled": false
   },
   "outputs": [
    {
     "name": "stdout",
     "output_type": "stream",
     "text": [
      "Apple still has a lot of room to grow in the $3.5 trillion health ...\n"
     ]
    }
   ],
   "source": [
    "print(news[0][\"title\"])"
   ]
  },
  {
   "cell_type": "code",
   "execution_count": 20,
   "metadata": {},
   "outputs": [],
   "source": [
    "res = google_news.getpage(0)"
   ]
  },
  {
   "cell_type": "code",
   "execution_count": 22,
   "metadata": {},
   "outputs": [
    {
     "name": "stdout",
     "output_type": "stream",
     "text": [
      "None\n"
     ]
    }
   ],
   "source": [
    "print(res)"
   ]
  },
  {
   "cell_type": "code",
   "execution_count": null,
   "metadata": {},
   "outputs": [],
   "source": []
  }
 ],
 "metadata": {
  "kernelspec": {
   "display_name": "Python 3.6.9 64-bit",
   "language": "python",
   "name": "python36964bit78cd3468d3514a2bb00680eafb442151"
  },
  "language_info": {
   "codemirror_mode": {
    "name": "ipython",
    "version": 3
   },
   "file_extension": ".py",
   "mimetype": "text/x-python",
   "name": "python",
   "nbconvert_exporter": "python",
   "pygments_lexer": "ipython3",
   "version": "3.6.9"
  }
 },
 "nbformat": 4,
 "nbformat_minor": 4
}
